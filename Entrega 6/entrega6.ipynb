{
 "cells": [
  {
   "cell_type": "markdown",
   "metadata": {},
   "source": [
    "*  Estructurar un problema en función de múltiples, pero simples preguntas/hipótesis a responder\n",
    "*  Analizar datos tabulares (e.g excel, csv, etc)  usando Python\n",
    "*  Utilizar modelos de Machine Learning con Python\n",
    "*  Abstracto con motivación y audiencia: Descripción de alto nivel de lo que lo motiva a analizar los datos elegidos y qué tipo de audiencia se podría beneficiar de este análisis\n",
    "*  Preguntas/Hipótesis que queremos responder mediante el análisis de datos\n",
    "*  Estructura acorde.\n",
    "*  Análisis Exploratorio de datos (EDA): Análisis descriptivo de los datos mediante visualizaciones mediante el análisis de datos\n",
    "\n"
   ]
  }
 ],
 "metadata": {
  "language_info": {
   "name": "python"
  }
 },
 "nbformat": 4,
 "nbformat_minor": 2
}
